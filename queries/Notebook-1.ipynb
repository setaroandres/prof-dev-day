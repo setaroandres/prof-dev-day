{
    "metadata": {
        "kernelspec": {
            "name": "SQL",
            "display_name": "SQL",
            "language": "sql"
        },
        "language_info": {
            "name": "sql",
            "version": ""
        }
    },
    "nbformat_minor": 2,
    "nbformat": 4,
    "cells": [
        {
            "cell_type": "code",
            "source": [
                "USE prof_dev_day;\r\n",
                "\r\n",
                "CREATE TABLE leagues (\r\n",
                "    idLeague INT NOT NULL AUTO_INCREMENT PRIMARY KEY,\r\n",
                "    league LONGTEXT NOT NULL,\r\n",
                "    country LONGTEXT NOT NULL\r\n",
                ");"
            ],
            "metadata": {
                "azdata_cell_guid": "297e7096-c268-49c3-9613-b1809164042c",
                "language": "sql",
                "tags": []
            },
            "outputs": [
                {
                    "output_type": "display_data",
                    "data": {
                        "text/html": "Commands completed successfully"
                    },
                    "metadata": {}
                },
                {
                    "output_type": "display_data",
                    "data": {
                        "text/html": "Commands completed successfully"
                    },
                    "metadata": {}
                },
                {
                    "output_type": "display_data",
                    "data": {
                        "text/html": "Total execution time: 00:00:00.018"
                    },
                    "metadata": {}
                }
            ],
            "execution_count": 9
        },
        {
            "cell_type": "code",
            "source": [
                "USE prof_dev_day;\r\n",
                "\r\n",
                "INSERT INTO leagues (league, country) VALUES ('La Liga', 'España');\r\n",
                "\r\n",
                "select * from leagues"
            ],
            "metadata": {
                "azdata_cell_guid": "2d833c58-61f6-49ed-a325-5db75bc132ce",
                "language": "sql",
                "tags": []
            },
            "outputs": [
                {
                    "output_type": "display_data",
                    "data": {
                        "text/html": "Commands completed successfully"
                    },
                    "metadata": {}
                },
                {
                    "output_type": "display_data",
                    "data": {
                        "text/html": "Commands completed successfully"
                    },
                    "metadata": {}
                },
                {
                    "output_type": "display_data",
                    "data": {
                        "text/html": "(3 row(s) affected)"
                    },
                    "metadata": {}
                },
                {
                    "output_type": "display_data",
                    "data": {
                        "text/html": "Total execution time: 00:00:01.019"
                    },
                    "metadata": {}
                },
                {
                    "output_type": "execute_result",
                    "execution_count": 1,
                    "data": {
                        "application/vnd.dataresource+json": {
                            "schema": {
                                "fields": [
                                    {
                                        "name": "idLeague"
                                    },
                                    {
                                        "name": "league"
                                    },
                                    {
                                        "name": "country"
                                    }
                                ]
                            },
                            "data": [
                                {
                                    "idLeague": "1",
                                    "league": "Liga Profesional",
                                    "country": "Argentina"
                                },
                                {
                                    "idLeague": "2",
                                    "league": "Brasileirao",
                                    "country": "Brasil"
                                },
                                {
                                    "idLeague": "3",
                                    "league": "La Liga",
                                    "country": "España"
                                }
                            ]
                        },
                        "text/html": "<table><tr><th>idLeague</th><th>league</th><th>country</th></tr><tr><td>1</td><td>Liga Profesional</td><td>Argentina</td></tr><tr><td>2</td><td>Brasileirao</td><td>Brasil</td></tr><tr><td>3</td><td>La Liga</td><td>España</td></tr></table>"
                    },
                    "metadata": {}
                }
            ],
            "execution_count": 1
        }
    ]
}