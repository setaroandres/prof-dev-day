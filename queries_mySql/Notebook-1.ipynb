{
    "metadata": {
        "kernelspec": {
            "name": "SQL",
            "display_name": "SQL",
            "language": "sql"
        },
        "language_info": {
            "name": "sql",
            "version": ""
        }
    },
    "nbformat_minor": 2,
    "nbformat": 4,
    "cells": [
        {
            "cell_type": "code",
            "source": [
                "USE prof_dev_day;\r\n",
                "\r\n",
                "CREATE TABLE cars (\r\n",
                "    id INT AUTO_INCREMENT PRIMARY KEY, -- Columna autoincremental y clave primaria\r\n",
                "    name VARCHAR(250) NOT NULL,\r\n",
                "    year INT NOT NULL,\r\n",
                "    description VARCHAR(1000) NOT NULL, -- Cambié 'desc' a 'description' para evitar el uso de una palabra reservada\r\n",
                "    price DECIMAL(10, 2) NOT NULL,\r\n",
                "    category INT NOT NULL,\r\n",
                "    FOREIGN KEY (category) REFERENCES categories(id)\r\n",
                ");"
            ],
            "metadata": {
                "azdata_cell_guid": "0b39b355-e9f8-49a0-a2a8-6eca8065e297",
                "language": "sql",
                "tags": []
            },
            "outputs": [
                {
                    "output_type": "display_data",
                    "data": {
                        "text/html": "Commands completed successfully"
                    },
                    "metadata": {}
                },
                {
                    "output_type": "display_data",
                    "data": {
                        "text/html": "Commands completed successfully"
                    },
                    "metadata": {}
                },
                {
                    "output_type": "display_data",
                    "data": {
                        "text/html": "Total execution time: 00:00:00.030"
                    },
                    "metadata": {}
                }
            ],
            "execution_count": 18
        },
        {
            "cell_type": "code",
            "source": [
                "USE prof_dev_day;\r\n",
                "\r\n",
                "CREATE TABLE brands (\r\n",
                "    id INT AUTO_INCREMENT PRIMARY KEY, -- Columna autoincremental y clave primaria\r\n",
                "    name VARCHAR(250) NOT NULL,\r\n",
                "    country_of_origin INT NOT NULL\r\n",
                ");"
            ],
            "metadata": {
                "azdata_cell_guid": "09a65938-6761-418e-896b-8fc93fe3d971",
                "language": "sql"
            },
            "outputs": [
                {
                    "output_type": "display_data",
                    "data": {
                        "text/html": "Commands completed successfully"
                    },
                    "metadata": {}
                },
                {
                    "output_type": "display_data",
                    "data": {
                        "text/html": "Commands completed successfully"
                    },
                    "metadata": {}
                },
                {
                    "output_type": "display_data",
                    "data": {
                        "text/html": "Total execution time: 00:00:00.022"
                    },
                    "metadata": {}
                }
            ],
            "execution_count": 6
        },
        {
            "cell_type": "code",
            "source": [
                "USE prof_dev_day;\r\n",
                "ALTER TABLE cars RENAME COLUMN brands TO brand;\r\n",
                "\r\n",
                ""
            ],
            "metadata": {
                "azdata_cell_guid": "10e971f9-142f-46f3-b83b-7d89a5c51741",
                "language": "sql"
            },
            "outputs": [
                {
                    "output_type": "display_data",
                    "data": {
                        "text/html": "Commands completed successfully"
                    },
                    "metadata": {}
                },
                {
                    "output_type": "display_data",
                    "data": {
                        "text/html": "Commands completed successfully"
                    },
                    "metadata": {}
                },
                {
                    "output_type": "display_data",
                    "data": {
                        "text/html": "Total execution time: 00:00:00.018"
                    },
                    "metadata": {}
                }
            ],
            "execution_count": 7
        },
        {
            "cell_type": "code",
            "source": [
                "USE prof_dev_day;\r\n",
                "CREATE TABLE country (\r\n",
                "    id INT AUTO_INCREMENT PRIMARY KEY, -- Columna autoincremental y clave primaria\r\n",
                "    name VARCHAR(250) NOT NULL\r\n",
                ");\r\n",
                ""
            ],
            "metadata": {
                "azdata_cell_guid": "6263e682-d074-48c2-875b-f098eaa7dc94",
                "language": "sql",
                "tags": []
            },
            "outputs": [
                {
                    "output_type": "display_data",
                    "data": {
                        "text/html": "Commands completed successfully"
                    },
                    "metadata": {}
                },
                {
                    "output_type": "display_data",
                    "data": {
                        "text/html": "Commands completed successfully"
                    },
                    "metadata": {}
                },
                {
                    "output_type": "display_data",
                    "data": {
                        "text/html": "Total execution time: 00:00:00.042"
                    },
                    "metadata": {}
                }
            ],
            "execution_count": 9
        },
        {
            "cell_type": "code",
            "source": [
                "USE prof_dev_day;\r\n",
                "ALTER TABLE cars\r\n",
                "ADD FOREIGN KEY (brand) REFERENCES brands(id);"
            ],
            "metadata": {
                "azdata_cell_guid": "d8ef6088-bf4d-4924-a365-c54d72a65a05",
                "language": "sql"
            },
            "outputs": [
                {
                    "output_type": "display_data",
                    "data": {
                        "text/html": "Commands completed successfully"
                    },
                    "metadata": {}
                },
                {
                    "output_type": "display_data",
                    "data": {
                        "text/html": "Total execution time: 00:00:00.057"
                    },
                    "metadata": {}
                },
                {
                    "output_type": "error",
                    "evalue": "1452 (23000): Cannot add or update a child row: a foreign key constraint fails (`prof_dev_day`.`#sql-1a44_14`, CONSTRAINT `cars_ibfk_2` FOREIGN KEY (`brand`) REFERENCES `brands` (`id`))",
                    "ename": "",
                    "traceback": []
                }
            ],
            "execution_count": 8
        },
        {
            "cell_type": "code",
            "source": [
                "\r\n",
                "CREATE VIEW vwCatalogCars\r\n",
                "AS\r\n",
                "SELECT \r\n",
                "        c.name\r\n",
                "    ,   year\r\n",
                "    ,   description\r\n",
                "    ,   price\r\n",
                "    ,   ca.name as category\r\n",
                "    ,   img\r\n",
                "    ,   b.name as brand\r\n",
                "--SELECT *\r\n",
                "FROM cars c\r\n",
                "LEFT JOIN brands b ON c.brand = b.id\r\n",
                "LEFT JOIN categories ca ON c.category = ca.id\r\n",
                "\r\n",
                ""
            ],
            "metadata": {
                "azdata_cell_guid": "b9d00602-c099-4fe8-82b6-961445803aca",
                "language": "sql"
            },
            "outputs": [
                {
                    "output_type": "display_data",
                    "data": {
                        "text/html": "Commands completed successfully"
                    },
                    "metadata": {}
                },
                {
                    "output_type": "display_data",
                    "data": {
                        "text/html": "Total execution time: 00:00:00.009"
                    },
                    "metadata": {}
                }
            ],
            "execution_count": 29
        },
        {
            "cell_type": "code",
            "source": [
                "UPDATE cars SET brand=4 WHERE id=4;"
            ],
            "metadata": {
                "azdata_cell_guid": "fd7bc329-112b-4dd4-99fe-97904e251828",
                "language": "sql"
            },
            "outputs": [
                {
                    "output_type": "display_data",
                    "data": {
                        "text/html": "Commands completed successfully"
                    },
                    "metadata": {}
                },
                {
                    "output_type": "display_data",
                    "data": {
                        "text/html": "Total execution time: 00:00:00.005"
                    },
                    "metadata": {}
                }
            ],
            "execution_count": 18
        },
        {
            "cell_type": "code",
            "source": [
                "-- Insert rows into table 'TableName' in schema '[dbo]'\r\n",
                "INSERT INTO brands\r\n",
                "( -- Columns to insert data into\r\n",
                " name, \r\n",
                " country_of_origin\r\n",
                ")\r\n",
                "VALUES\r\n",
                "( -- First row: values for the columns in the list above\r\n",
                " 'dodge',\r\n",
                " 1\r\n",
                "),\r\n",
                "(\r\n",
                " 'ford',\r\n",
                " 1\r\n",
                "),\r\n",
                "(\r\n",
                "'land rover',\r\n",
                "2\r\n",
                "),\r\n",
                "(\r\n",
                " 'chevrolet',\r\n",
                " 1\r\n",
                ")\r\n",
                ""
            ],
            "metadata": {
                "language": "sql",
                "azdata_cell_guid": "02587c53-c34c-42e0-b0f8-888bffca63dd"
            },
            "outputs": [
                {
                    "output_type": "display_data",
                    "data": {
                        "text/html": "Commands completed successfully"
                    },
                    "metadata": {}
                },
                {
                    "output_type": "display_data",
                    "data": {
                        "text/html": "Total execution time: 00:00:00.006"
                    },
                    "metadata": {}
                }
            ],
            "execution_count": 13
        },
        {
            "cell_type": "code",
            "source": [
                "-- Insert rows into table 'TableName' in schema '[dbo]'\r\n",
                "INSERT INTO country\r\n",
                "( -- Columns to insert data into\r\n",
                " name\r\n",
                ")\r\n",
                "VALUES\r\n",
                "( -- First row: values for the columns in the list above\r\n",
                " 'USA',\r\n",
                "),\r\n",
                "(\r\n",
                " 'UK'\r\n",
                "),\r\n",
                "(\r\n",
                "'argentina'\r\n",
                ")"
            ],
            "metadata": {
                "azdata_cell_guid": "13f76ae9-3cf8-410f-b6bf-a1f90ac14685",
                "language": "sql"
            },
            "outputs": [
                {
                    "output_type": "display_data",
                    "data": {
                        "text/html": "Commands completed successfully"
                    },
                    "metadata": {}
                },
                {
                    "output_type": "display_data",
                    "data": {
                        "text/html": "Total execution time: 00:00:00.007"
                    },
                    "metadata": {}
                }
            ],
            "execution_count": 11
        },
        {
            "cell_type": "code",
            "source": [
                "USE prof_dev_day;\r\n",
                "select * from categories;\r\n",
                "select * from cars;\r\n",
                "select * from brands;\r\n",
                "select * from country;"
            ],
            "metadata": {
                "azdata_cell_guid": "b46b6528-a45a-4f1c-a8a1-7e9c0d670799",
                "language": "sql",
                "tags": []
            },
            "outputs": [
                {
                    "output_type": "display_data",
                    "data": {
                        "text/html": "Commands completed successfully"
                    },
                    "metadata": {}
                },
                {
                    "output_type": "display_data",
                    "data": {
                        "text/html": "(4 row(s) affected)"
                    },
                    "metadata": {}
                },
                {
                    "output_type": "display_data",
                    "data": {
                        "text/html": "(4 row(s) affected)"
                    },
                    "metadata": {}
                },
                {
                    "output_type": "display_data",
                    "data": {
                        "text/html": "(4 row(s) affected)"
                    },
                    "metadata": {}
                },
                {
                    "output_type": "display_data",
                    "data": {
                        "text/html": "(3 row(s) affected)"
                    },
                    "metadata": {}
                },
                {
                    "output_type": "display_data",
                    "data": {
                        "text/html": "Total execution time: 00:00:04.043"
                    },
                    "metadata": {}
                },
                {
                    "output_type": "execute_result",
                    "metadata": {},
                    "execution_count": 19,
                    "data": {
                        "application/vnd.dataresource+json": {
                            "schema": {
                                "fields": [
                                    {
                                        "name": "id"
                                    },
                                    {
                                        "name": "name"
                                    }
                                ]
                            },
                            "data": [
                                {
                                    "id": "1",
                                    "name": "muscle cars"
                                },
                                {
                                    "id": "2",
                                    "name": "engines"
                                },
                                {
                                    "id": "3",
                                    "name": "trucks"
                                },
                                {
                                    "id": "4",
                                    "name": "Vintage 4x4"
                                }
                            ]
                        },
                        "text/html": [
                            "<table>",
                            "<tr><th>id</th><th>name</th></tr>",
                            "<tr><td>1</td><td>muscle cars</td></tr>",
                            "<tr><td>2</td><td>engines</td></tr>",
                            "<tr><td>3</td><td>trucks</td></tr>",
                            "<tr><td>4</td><td>Vintage 4x4</td></tr>",
                            "</table>"
                        ]
                    }
                },
                {
                    "output_type": "execute_result",
                    "metadata": {},
                    "execution_count": 19,
                    "data": {
                        "application/vnd.dataresource+json": {
                            "schema": {
                                "fields": [
                                    {
                                        "name": "id"
                                    },
                                    {
                                        "name": "name"
                                    },
                                    {
                                        "name": "year"
                                    },
                                    {
                                        "name": "description"
                                    },
                                    {
                                        "name": "price"
                                    },
                                    {
                                        "name": "category"
                                    },
                                    {
                                        "name": "img"
                                    },
                                    {
                                        "name": "brand"
                                    }
                                ]
                            },
                            "data": [
                                {
                                    "id": "1",
                                    "name": "Dodge Dart Swinger",
                                    "year": "1969",
                                    "description": "Dodge is a major contributor to American muscle car culture, and even with the current EV trend Dodge is adapting to offer EV options for the segment. However, this listing is not about EV muscle cars but rather about old-school, mechanical to the core, vintage muscle cars. The Dodge Division of Chrysler Motors first produced the Dart model as a line of large passenger cars. As the generations passed and the Dart options list lengthened, it joined a new and smaller breed of American muscle cars. The year 1969 saw the addition of the Dart Swinger 340 and it was the best by far. This is your chance to own one with a full frame off restoration. With no more than 1000 miles on its clock, this beauty is available for sale in Wisconsin.",
                                    "price": "24000.00",
                                    "category": "1",
                                    "img": "https://cdn.prod.website-files.com/5b4a3b3971d099f78f362505/6685557529139a2d791cc60b_1969-Dodge-Dart-Swinger-Silver-LM23P9B204177_112.jpg",
                                    "brand": "1"
                                },
                                {
                                    "id": "2",
                                    "name": "Ford Bronco Velocity Ranger",
                                    "year": "2020",
                                    "description": "The team at Velocity Restorations are experts at taking your dream of owning an American classic and making it a reality. One can choose and visualize a specific build from a range of model options and the entire production process is completed in-house. This stunning example of the 1967 Ford Bronco Velocity Ranger Package is one such flawless build that you can take home today.",
                                    "price": "35000.00",
                                    "category": "3",
                                    "img": "https://cdn.prod.website-files.com/5b4a3b3971d099f78f362505/66837395a16982492b27752c_1967-Ford-Bronco-Velocity-Ranger-Package-Anvil-Gray-U15NLA86270_110-p-800.jpg",
                                    "brand": "2"
                                },
                                {
                                    "id": "3",
                                    "name": "Land Rover Defender 90",
                                    "year": "1988",
                                    "description": "The Land Rover Defender is one of the most iconic off-roaders of all time. Despite being available new in its most modern avatar, the last-gen Defender is still an enthusiast-favorite vehicle. After completing a production run of over 30 years, the last generation Land Rover Defender retired in 2016. We have here today a restored 1988 Land Rover Defender 90 with modern underpinnings housed under the elegant, classic bodywork. The current owner has reported that the SUV was imported from England and the full restoration was completed in 2019 by Osprey Custom Cars. They also added that the SUV has been fitted with a new hot-dip galvanized OEM chassis from another 1988 model Defender 90. Powered by an LS3 V8 and with just 19,350 miles on the odometer, this classic Defender 90 is the perfect restomod SUV for an aficionado.",
                                    "price": "40000.00",
                                    "category": "4",
                                    "img": "https://cdn.prod.website-files.com/5b4a3b3971d099f78f362505/6669a4979dd03cb0c6b87371_1988-Land-Rover-Defender-90-Graphite-Metallic-SALLDVAB7AA308476_066-p-800.jpg",
                                    "brand": "3"
                                },
                                {
                                    "id": "4",
                                    "name": "Chevrolet Nova Sport Coupe",
                                    "year": "1962",
                                    "description": "The Chevrolet Nova has long been a favorite within the hot rodding community, offering a plethora of knowledge and parts for enthusiasts. However, the showcased car for sale here takes the Nova experience to new heights. This is a meticulously executed restomod project, boasting a multitude of new components. If you are looking to venture into the realm of enhanced and modernized performance vehicles with a classic touch, your search ends here. Now equipped with a brand-new 6.2-liter LS3 V8 engine and a host of high-performance upgrades—including a 5-speed Tremec gearbox, upgraded camshaft, and competition-grade tires—this 1962 Chevrolet Nova Sport Coupe Restomod presents a compelling package tailored for the discerning enthusiast.",
                                    "price": "22000.00",
                                    "category": "1",
                                    "img": "https://cdn.prod.website-files.com/5b4a3b3971d099f78f362505/661981758fdfd3e7a7787dc3_20437N181206-2%20(1).jpg",
                                    "brand": "4"
                                }
                            ]
                        },
                        "text/html": [
                            "<table>",
                            "<tr><th>id</th><th>name</th><th>year</th><th>description</th><th>price</th><th>category</th><th>img</th><th>brand</th></tr>",
                            "<tr><td>1</td><td>Dodge Dart Swinger</td><td>1969</td><td>Dodge is a major contributor to American muscle car culture, and even with the current EV trend Dodge is adapting to offer EV options for the segment. However, this listing is not about EV muscle cars but rather about old-school, mechanical to the core, vintage muscle cars. The Dodge Division of Chrysler Motors first produced the Dart model as a line of large passenger cars. As the generations passed and the Dart options list lengthened, it joined a new and smaller breed of American muscle cars. The year 1969 saw the addition of the Dart Swinger 340 and it was the best by far. This is your chance to own one with a full frame off restoration. With no more than 1000 miles on its clock, this beauty is available for sale in Wisconsin.</td><td>24000.00</td><td>1</td><td>https://cdn.prod.website-files.com/5b4a3b3971d099f78f362505/6685557529139a2d791cc60b_1969-Dodge-Dart-Swinger-Silver-LM23P9B204177_112.jpg</td><td>1</td></tr>",
                            "<tr><td>2</td><td>Ford Bronco Velocity Ranger</td><td>2020</td><td>The team at Velocity Restorations are experts at taking your dream of owning an American classic and making it a reality. One can choose and visualize a specific build from a range of model options and the entire production process is completed in-house. This stunning example of the 1967 Ford Bronco Velocity Ranger Package is one such flawless build that you can take home today.</td><td>35000.00</td><td>3</td><td>https://cdn.prod.website-files.com/5b4a3b3971d099f78f362505/66837395a16982492b27752c_1967-Ford-Bronco-Velocity-Ranger-Package-Anvil-Gray-U15NLA86270_110-p-800.jpg</td><td>2</td></tr>",
                            "<tr><td>3</td><td>Land Rover Defender 90</td><td>1988</td><td>The Land Rover Defender is one of the most iconic off-roaders of all time. Despite being available new in its most modern avatar, the last-gen Defender is still an enthusiast-favorite vehicle. After completing a production run of over 30 years, the last generation Land Rover Defender retired in 2016. We have here today a restored 1988 Land Rover Defender 90 with modern underpinnings housed under the elegant, classic bodywork. The current owner has reported that the SUV was imported from England and the full restoration was completed in 2019 by Osprey Custom Cars. They also added that the SUV has been fitted with a new hot-dip galvanized OEM chassis from another 1988 model Defender 90. Powered by an LS3 V8 and with just 19,350 miles on the odometer, this classic Defender 90 is the perfect restomod SUV for an aficionado.</td><td>40000.00</td><td>4</td><td>https://cdn.prod.website-files.com/5b4a3b3971d099f78f362505/6669a4979dd03cb0c6b87371_1988-Land-Rover-Defender-90-Graphite-Metallic-SALLDVAB7AA308476_066-p-800.jpg</td><td>3</td></tr>",
                            "<tr><td>4</td><td>Chevrolet Nova Sport Coupe</td><td>1962</td><td>The Chevrolet Nova has long been a favorite within the hot rodding community, offering a plethora of knowledge and parts for enthusiasts. However, the showcased car for sale here takes the Nova experience to new heights. This is a meticulously executed restomod project, boasting a multitude of new components. If you are looking to venture into the realm of enhanced and modernized performance vehicles with a classic touch, your search ends here. Now equipped with a brand-new 6.2-liter LS3 V8 engine and a host of high-performance upgrades—including a 5-speed Tremec gearbox, upgraded camshaft, and competition-grade tires—this 1962 Chevrolet Nova Sport Coupe Restomod presents a compelling package tailored for the discerning enthusiast.</td><td>22000.00</td><td>1</td><td>https://cdn.prod.website-files.com/5b4a3b3971d099f78f362505/661981758fdfd3e7a7787dc3_20437N181206-2%20(1).jpg</td><td>4</td></tr>",
                            "</table>"
                        ]
                    }
                },
                {
                    "output_type": "execute_result",
                    "metadata": {},
                    "execution_count": 19,
                    "data": {
                        "application/vnd.dataresource+json": {
                            "schema": {
                                "fields": [
                                    {
                                        "name": "id"
                                    },
                                    {
                                        "name": "name"
                                    },
                                    {
                                        "name": "country_of_origin"
                                    }
                                ]
                            },
                            "data": [
                                {
                                    "id": "1",
                                    "name": "dodge",
                                    "country_of_origin": "1"
                                },
                                {
                                    "id": "2",
                                    "name": "ford",
                                    "country_of_origin": "1"
                                },
                                {
                                    "id": "3",
                                    "name": "land rover",
                                    "country_of_origin": "2"
                                },
                                {
                                    "id": "4",
                                    "name": "chevrolet",
                                    "country_of_origin": "1"
                                }
                            ]
                        },
                        "text/html": [
                            "<table>",
                            "<tr><th>id</th><th>name</th><th>country_of_origin</th></tr>",
                            "<tr><td>1</td><td>dodge</td><td>1</td></tr>",
                            "<tr><td>2</td><td>ford</td><td>1</td></tr>",
                            "<tr><td>3</td><td>land rover</td><td>2</td></tr>",
                            "<tr><td>4</td><td>chevrolet</td><td>1</td></tr>",
                            "</table>"
                        ]
                    }
                },
                {
                    "output_type": "execute_result",
                    "metadata": {},
                    "execution_count": 19,
                    "data": {
                        "application/vnd.dataresource+json": {
                            "schema": {
                                "fields": [
                                    {
                                        "name": "id"
                                    },
                                    {
                                        "name": "name"
                                    }
                                ]
                            },
                            "data": [
                                {
                                    "id": "1",
                                    "name": "USA"
                                },
                                {
                                    "id": "2",
                                    "name": "UK"
                                },
                                {
                                    "id": "3",
                                    "name": "argentina"
                                }
                            ]
                        },
                        "text/html": [
                            "<table>",
                            "<tr><th>id</th><th>name</th></tr>",
                            "<tr><td>1</td><td>USA</td></tr>",
                            "<tr><td>2</td><td>UK</td></tr>",
                            "<tr><td>3</td><td>argentina</td></tr>",
                            "</table>"
                        ]
                    }
                }
            ],
            "execution_count": 19
        },
        {
            "cell_type": "code",
            "source": [
                "USE prof_dev_day;\r\n",
                "\r\n",
                "INSERT INTO cars (name, year, description, price, category, img) VALUES \r\n",
                "('Dodge Dart Swinger', 1969, 'Dodge is a major contributor to American muscle car culture, and even with the current EV trend Dodge is adapting to offer EV options for the segment. However, this listing is not about EV muscle cars but rather about old-school, mechanical to the core, vintage muscle cars. The Dodge Division of Chrysler Motors first produced the Dart model as a line of large passenger cars. As the generations passed and the Dart options list lengthened, it joined a new and smaller breed of American muscle cars. The year 1969 saw the addition of the Dart Swinger 340 and it was the best by far. This is your chance to own one with a full frame off restoration. With no more than 1000 miles on its clock, this beauty is available for sale in Wisconsin.', 24000.00, 1, 'https://cdn.prod.website-files.com/5b4a3b3971d099f78f362505/6685557529139a2d791cc60b_1969-Dodge-Dart-Swinger-Silver-LM23P9B204177_112.jpg'),\r\n",
                "('Ford Bronco Velocity Ranger', 2020, 'The team at Velocity Restorations are experts at taking your dream of owning an American classic and making it a reality. One can choose and visualize a specific build from a range of model options and the entire production process is completed in-house. This stunning example of the 1967 Ford Bronco Velocity Ranger Package is one such flawless build that you can take home today.', 35000.00, 3, 'https://cdn.prod.website-files.com/5b4a3b3971d099f78f362505/66837395a16982492b27752c_1967-Ford-Bronco-Velocity-Ranger-Package-Anvil-Gray-U15NLA86270_110-p-800.jpg'),\r\n",
                "('Land Rover Defender 90', 1988, 'The Land Rover Defender is one of the most iconic off-roaders of all time. Despite being available new in its most modern avatar, the last-gen Defender is still an enthusiast-favorite vehicle. After completing a production run of over 30 years, the last generation Land Rover Defender retired in 2016. We have here today a restored 1988 Land Rover Defender 90 with modern underpinnings housed under the elegant, classic bodywork. The current owner has reported that the SUV was imported from England and the full restoration was completed in 2019 by Osprey Custom Cars. They also added that the SUV has been fitted with a new hot-dip galvanized OEM chassis from another 1988 model Defender 90. Powered by an LS3 V8 and with just 19,350 miles on the odometer, this classic Defender 90 is the perfect restomod SUV for an aficionado.', 40000.00, 4, ''),\r\n",
                "('Chevrolet Nova Sport Coupe', 1962, 'The Chevrolet Nova has long been a favorite within the hot rodding community, offering a plethora of knowledge and parts for enthusiasts. However, the showcased car for sale here takes the Nova experience to new heights. This is a meticulously executed restomod project, boasting a multitude of new components. If you are looking to venture into the realm of enhanced and modernized performance vehicles with a classic touch, your search ends here. Now equipped with a brand-new 6.2-liter LS3 V8 engine and a host of high-performance upgrades—including a 5-speed Tremec gearbox, upgraded camshaft, and competition-grade tires—this 1962 Chevrolet Nova Sport Coupe Restomod presents a compelling package tailored for the discerning enthusiast.', 22000.00, 1, 'https://cdn.prod.website-files.com/5b4a3b3971d099f78f362505/661981758fdfd3e7a7787dc3_20437N181206-2%20(1).jpg');"
            ],
            "metadata": {
                "azdata_cell_guid": "5876a590-fd37-48e7-b255-972e84fedad4",
                "language": "sql"
            },
            "outputs": [
                {
                    "output_type": "display_data",
                    "data": {
                        "text/html": "Commands completed successfully"
                    },
                    "metadata": {}
                },
                {
                    "output_type": "display_data",
                    "data": {
                        "text/html": "Total execution time: 00:00:00"
                    },
                    "metadata": {}
                },
                {
                    "output_type": "error",
                    "ename": "",
                    "evalue": "1064 (42000): You have an error in your SQL syntax; check the manual that corresponds to your MySQL server version for the right syntax to use near 'where id = 3\n\nINSERT INTO cars (name, year, description, price, category, img) V' at line 2",
                    "traceback": []
                }
            ],
            "execution_count": 18
        },
        {
            "cell_type": "code",
            "source": [
                "USE prof_dev_day;\r\n",
                "UPDATE cars\r\n",
                "  Set img = 'https://cdn.prod.website-files.com/5b4a3b3971d099f78f362505/6669a4979dd03cb0c6b87371_1988-Land-Rover-Defender-90-Graphite-Metallic-SALLDVAB7AA308476_066-p-800.jpg'\r\n",
                "  WHERE id = 3"
            ],
            "metadata": {
                "language": "sql",
                "azdata_cell_guid": "bb3f7e87-5fca-407a-88b2-c4bc334f6484",
                "tags": []
            },
            "outputs": [
                {
                    "output_type": "display_data",
                    "data": {
                        "text/html": "Commands completed successfully"
                    },
                    "metadata": {}
                },
                {
                    "output_type": "display_data",
                    "data": {
                        "text/html": "Commands completed successfully"
                    },
                    "metadata": {}
                },
                {
                    "output_type": "display_data",
                    "data": {
                        "text/html": "Total execution time: 00:00:00.005"
                    },
                    "metadata": {}
                }
            ],
            "execution_count": 22
        }
    ]
}